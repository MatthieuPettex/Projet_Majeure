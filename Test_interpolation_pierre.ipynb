{
 "cells": [
  {
   "cell_type": "code",
   "execution_count": 2,
   "metadata": {},
   "outputs": [],
   "source": [
    "# écrit un algorithme qui fait dépixelize une image en pixel art\n",
    "import numpy as np\n",
    "from PIL import Image\n",
    "from matplotlib import pyplot as plt"
   ]
  },
  {
   "cell_type": "code",
   "execution_count": 17,
   "metadata": {},
   "outputs": [],
   "source": [
    "\n",
    "\n",
    "def depixelize(image, size_factor=1): #tentative de sepixélisation par interpolation linéaire de la valeur des pixels voisins\n",
    "    # on récupère les dimensions de l'image\n",
    "    width, height, _ = image.shape\n",
    "    # on crée un tableau vide de la même taille\n",
    "    new_image = np.zeros((width*size_factor, height*size_factor, 4), dtype=np.uint8)\n",
    "    # on parcourt les pixels de l'image\n",
    "    size_pixel=4\n",
    "    for i in range(width):\n",
    "        for j in range(height):\n",
    "            # on récupère la couleur du pixel\n",
    "            pixel = image[i, j]\n",
    "            pixel_left = image[i, (j - 1) % height]\n",
    "            pixel_right = image[i, (j + 1) % height]\n",
    "            pixel_bottom = image[(i + 1) % width, j]\n",
    "            pixel_bottom_right = image[(i + 1) % width, (j + 1) % height]\n",
    "            pixel_bottom_left = image[(i + 1) % width, (j - 1) % height]\n",
    "            pixel_up = image[(i - 1) % width, j]\n",
    "            pixel_up_right = image[(i - 1) % width, (j + 1) % height]\n",
    "            pixel_up_left = image[(i - 1) % width, (j - 1) % height]\n",
    "\n",
    "            # on créé une matrice 3*3 qui contient les pixels voisins\n",
    "            Matrix=np.array([[pixel_up_left,pixel_up,pixel_up_right],[pixel_left,pixel,pixel_right],[pixel_bottom_left,pixel_bottom,pixel_bottom_right]])\n",
    "\n",
    "\n",
    "\n",
    "            # on créé une matrice de taille size_factor*size_factor qui les nouvelles valeurs que l'on affectera aux pixels de l'image dépixélisée pour le pixel i j \n",
    "            new_pixel=np.zeros((size_factor*size_pixel,size_factor*size_pixel,4),dtype=np.uint8)\n",
    "            horizont_fact=.05\n",
    "            diagonal_fact=.05\n",
    "            center_fact=0.8\n",
    "            for u in range(size_factor*size_pixel):\n",
    "                for v in range(size_factor*size_pixel):\n",
    "                    #Selon la position du pixel dans la matrice on affecte une valeur différente en pondérant la matrice contenant la valeur des pixels voisins\n",
    "                    new_pixel[u,v]=Matrix[0,0]*(size_factor*2-u-v)/(size_factor*2)*diagonal_fact\\\n",
    "                        +Matrix[0,1]*(size_factor-v)/size_factor*horizont_fact\\\n",
    "                        +Matrix[0,2]*(size_factor+u-v)/(size_factor*2)*diagonal_fact\\\n",
    "                        +Matrix[1,0]*(size_factor-u)/size_factor*horizont_fact\\\n",
    "                        +Matrix[1,1]*center_fact\\\n",
    "                        +Matrix[1,2]*u/size_factor*horizont_fact\\\n",
    "                        +Matrix[2,0]*(size_factor-u+v)/(size_factor*2)*diagonal_fact\\\n",
    "                        +Matrix[2,1]*v/size_factor*horizont_fact\\\n",
    "                        +Matrix[2,2]*(u+v)/(size_factor*2)*diagonal_fact\n",
    "            # on affecte la nouvelle valeur au pixel de l'image dépixélisée\n",
    "            new_image[i*size_factor*size_pixel:(i+1)*size_factor, j*size_factor:(j+1)*size_factor] = new_pixel\n",
    "\n",
    "\n",
    "    # on retourne l'image dépixélisée\n",
    "    return new_image\n",
    "\n",
    "\n",
    "\n",
    "# on dépixélise l'image\n",
    "\n",
    "\n",
    "\n",
    "\n",
    "\n"
   ]
  },
  {
   "cell_type": "code",
   "execution_count": 18,
   "metadata": {},
   "outputs": [
    {
     "ename": "ValueError",
     "evalue": "could not broadcast input array from shape (12,12,4) into shape (12,0,4)",
     "output_type": "error",
     "traceback": [
      "\u001b[1;31m---------------------------------------------------------------------------\u001b[0m",
      "\u001b[1;31mValueError\u001b[0m                                Traceback (most recent call last)",
      "Cell \u001b[1;32mIn [18], line 3\u001b[0m\n\u001b[0;32m      1\u001b[0m image \u001b[39m=\u001b[39m Image\u001b[39m.\u001b[39mopen(\u001b[39m\"\u001b[39m\u001b[39mboo.png\u001b[39m\u001b[39m\"\u001b[39m)\n\u001b[0;32m      2\u001b[0m image \u001b[39m=\u001b[39m np\u001b[39m.\u001b[39marray(image)\n\u001b[1;32m----> 3\u001b[0m new_image \u001b[39m=\u001b[39m depixelize(image,\u001b[39m3\u001b[39m)\n\u001b[0;32m      4\u001b[0m plt\u001b[39m.\u001b[39mimshow(new_image)\n",
      "Cell \u001b[1;32mIn [17], line 44\u001b[0m, in \u001b[0;36mdepixelize\u001b[1;34m(image, size_factor)\u001b[0m\n\u001b[0;32m     34\u001b[0m                 new_pixel[u,v]\u001b[39m=\u001b[39mMatrix[\u001b[39m0\u001b[39m,\u001b[39m0\u001b[39m]\u001b[39m*\u001b[39m(size_factor\u001b[39m*\u001b[39m\u001b[39m2\u001b[39m\u001b[39m-\u001b[39mu\u001b[39m-\u001b[39mv)\u001b[39m/\u001b[39m(size_factor\u001b[39m*\u001b[39m\u001b[39m2\u001b[39m)\u001b[39m*\u001b[39mdiagonal_fact\\\n\u001b[0;32m     35\u001b[0m                     \u001b[39m+\u001b[39mMatrix[\u001b[39m0\u001b[39m,\u001b[39m1\u001b[39m]\u001b[39m*\u001b[39m(size_factor\u001b[39m-\u001b[39mv)\u001b[39m/\u001b[39msize_factor\u001b[39m*\u001b[39mhorizont_fact\\\n\u001b[0;32m     36\u001b[0m                     \u001b[39m+\u001b[39mMatrix[\u001b[39m0\u001b[39m,\u001b[39m2\u001b[39m]\u001b[39m*\u001b[39m(size_factor\u001b[39m+\u001b[39mu\u001b[39m-\u001b[39mv)\u001b[39m/\u001b[39m(size_factor\u001b[39m*\u001b[39m\u001b[39m2\u001b[39m)\u001b[39m*\u001b[39mdiagonal_fact\\\n\u001b[1;32m   (...)\u001b[0m\n\u001b[0;32m     41\u001b[0m                     \u001b[39m+\u001b[39mMatrix[\u001b[39m2\u001b[39m,\u001b[39m1\u001b[39m]\u001b[39m*\u001b[39mv\u001b[39m/\u001b[39msize_factor\u001b[39m*\u001b[39mhorizont_fact\\\n\u001b[0;32m     42\u001b[0m                     \u001b[39m+\u001b[39mMatrix[\u001b[39m2\u001b[39m,\u001b[39m2\u001b[39m]\u001b[39m*\u001b[39m(u\u001b[39m+\u001b[39mv)\u001b[39m/\u001b[39m(size_factor\u001b[39m*\u001b[39m\u001b[39m2\u001b[39m)\u001b[39m*\u001b[39mdiagonal_fact\n\u001b[0;32m     43\u001b[0m         \u001b[39m# on affecte la nouvelle valeur au pixel de l'image dépixélisée\u001b[39;00m\n\u001b[1;32m---> 44\u001b[0m         new_image[i\u001b[39m*\u001b[39;49msize_factor\u001b[39m*\u001b[39;49msize_pixel:(i\u001b[39m+\u001b[39;49m\u001b[39m1\u001b[39;49m)\u001b[39m*\u001b[39;49msize_factor\u001b[39m*\u001b[39;49msize_pixel, j\u001b[39m*\u001b[39;49msize_factor\u001b[39m*\u001b[39;49msize_pixel:(j\u001b[39m+\u001b[39;49m\u001b[39m1\u001b[39;49m)\u001b[39m*\u001b[39;49msize_factor\u001b[39m*\u001b[39;49msize_pixel] \u001b[39m=\u001b[39m new_pixel\n\u001b[0;32m     47\u001b[0m \u001b[39m# on retourne l'image dépixélisée\u001b[39;00m\n\u001b[0;32m     48\u001b[0m \u001b[39mreturn\u001b[39;00m new_image\n",
      "\u001b[1;31mValueError\u001b[0m: could not broadcast input array from shape (12,12,4) into shape (12,0,4)"
     ]
    }
   ],
   "source": [
    "\n",
    "image = Image.open(\"boo.png\")\n",
    "image = np.array(image)\n",
    "new_image = depixelize(image,3)\n",
    "plt.imshow(new_image)"
   ]
  }
 ],
 "metadata": {
  "kernelspec": {
   "display_name": "Python 3.9.13 64-bit (microsoft store)",
   "language": "python",
   "name": "python3"
  },
  "language_info": {
   "codemirror_mode": {
    "name": "ipython",
    "version": 3
   },
   "file_extension": ".py",
   "mimetype": "text/x-python",
   "name": "python",
   "nbconvert_exporter": "python",
   "pygments_lexer": "ipython3",
   "version": "3.9.13"
  },
  "orig_nbformat": 4,
  "vscode": {
   "interpreter": {
    "hash": "2371707c171f20c148049c2b5720157ac4c20dba7aff41c6f31e3f6671be6423"
   }
  }
 },
 "nbformat": 4,
 "nbformat_minor": 2
}
